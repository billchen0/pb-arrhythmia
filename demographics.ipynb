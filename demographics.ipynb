{
 "cells": [
  {
   "cell_type": "code",
   "execution_count": 86,
   "metadata": {},
   "outputs": [],
   "source": [
    "from pathlib import Path\n",
    "import xml.etree.ElementTree as ET\n",
    "import pandas as pd"
   ]
  },
  {
   "cell_type": "code",
   "execution_count": 148,
   "metadata": {},
   "outputs": [],
   "source": [
    "def extract_demographics(root):\n",
    "    p_data = {}\n",
    "\n",
    "    # Get the device source and activity type\n",
    "    source = root.find(\".//SOURCE\")\n",
    "    p_data[\"Activity\"] = source.get(\"TYPE\")\n",
    "    p_data[\"Model\"] = source.get(\"MODEL\")\n",
    "\n",
    "    # Get the site number and ECG metadata + aquisition time\n",
    "    site = root.find(\".//SITE\")\n",
    "    if site is not None:\n",
    "        p_data[\"Site Number:\"] = site.get(\"ID\")\n",
    "\n",
    "    p_data[\"Acquisition Time\"] = root.attrib[\"ACQUISITION_TIME\"]\n",
    "    p_data[\"QRS Count\"] = root.attrib[\"NUM_QRS\"]\n",
    "    p_data[\"Average RR\"] = root.attrib[\"AVERAGE_RR\"]\n",
    "    p_data[\"Heart Rate\"] = 60000 / int(p_data[\"Average RR\"])\n",
    "\n",
    "    for demo in root.findall(\".//DEMOGRAPHIC_FIELD\"):\n",
    "        label = demo.get(\"LABEL\")\n",
    "        value = demo.get(\"VALUE\")\n",
    "\n",
    "        if label in [\"Site Number:\", \"Participant #:\", \"Age:\", \"Gender:\", \"ID:&ID:\", \"Age:&\", \"Sex:\"]:\n",
    "            p_data[label] = value\n",
    "\n",
    "    return p_data"
   ]
  },
  {
   "cell_type": "code",
   "execution_count": 149,
   "metadata": {},
   "outputs": [],
   "source": [
    "p_demographics = []\n",
    "\n",
    "mort_path = Path(\"/media/nvme1/pbecg-data/mortara\")\n",
    "for file_path in mort_path.rglob(\"*xml\"):\n",
    "    tree = ET.parse(file_path)\n",
    "    root = tree.getroot()\n",
    "    p_data = extract_demographics(root)\n",
    "    p_demographics.append(p_data)"
   ]
  },
  {
   "cell_type": "code",
   "execution_count": 150,
   "metadata": {},
   "outputs": [],
   "source": [
    "# Rename keys in list of dictionary\n",
    "for p_demo in p_demographics:\n",
    "    age_keys = [\"Age:&\", \"Age:\"]\n",
    "    for key in age_keys:\n",
    "        if key in p_demo:\n",
    "            p_demo[\"Age\"] = p_demo.pop(key)\n",
    "    \n",
    "    id_keys = [\"ID:&ID:\", \"Participant #:\"]\n",
    "    for key in id_keys:\n",
    "        if key in p_demo:\n",
    "            p_demo[\"ID\"] = p_demo.pop(key)\n",
    "\n",
    "    sex_keys = [\"Sex:\", \"Gender:\"]\n",
    "    for key in sex_keys:\n",
    "        if key in p_demo:\n",
    "            p_demo[\"Sex\"] = p_demo.pop(key)\n",
    "\n",
    "    if \"Site Number:\" in p_demo:\n",
    "        p_demo[\"Site Number\"] = p_demo.pop(\"Site Number:\")"
   ]
  },
  {
   "cell_type": "code",
   "execution_count": 151,
   "metadata": {},
   "outputs": [
    {
     "data": {
      "text/plain": [
       "(3447, 10)"
      ]
     },
     "execution_count": 151,
     "metadata": {},
     "output_type": "execute_result"
    }
   ],
   "source": [
    "demo_df = pd.DataFrame(p_demographics).drop_duplicates()\n",
    "demo_df.shape"
   ]
  },
  {
   "cell_type": "code",
   "execution_count": 152,
   "metadata": {},
   "outputs": [
    {
     "name": "stdout",
     "output_type": "stream",
     "text": [
      "Number of unique patients in Mortara files: 2477\n"
     ]
    }
   ],
   "source": [
    "unique_ids = demo_df[\"ID\"].unique()\n",
    "print(f\"Number of unique patients in Mortara files: {len(unique_ids)}\")"
   ]
  },
  {
   "cell_type": "code",
   "execution_count": 153,
   "metadata": {},
   "outputs": [],
   "source": [
    "demo_df.to_csv(\"metadata.csv\", index=False)"
   ]
  }
 ],
 "metadata": {
  "kernelspec": {
   "display_name": "pb",
   "language": "python",
   "name": "python3"
  },
  "language_info": {
   "codemirror_mode": {
    "name": "ipython",
    "version": 3
   },
   "file_extension": ".py",
   "mimetype": "text/x-python",
   "name": "python",
   "nbconvert_exporter": "python",
   "pygments_lexer": "ipython3",
   "version": "3.10.13"
  }
 },
 "nbformat": 4,
 "nbformat_minor": 2
}
