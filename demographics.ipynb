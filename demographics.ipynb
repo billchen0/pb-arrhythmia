{
 "cells": [
  {
   "cell_type": "code",
   "execution_count": 44,
   "metadata": {},
   "outputs": [],
   "source": [
    "%matplotlib inline\n",
    "from pathlib import Path\n",
    "import xml.etree.ElementTree as ET\n",
    "import pandas as pd\n",
    "import seaborn as sns\n",
    "import matplotlib.pyplot as plt\n",
    "import warnings\n",
    "warnings.simplefilter(action=\"ignore\", category=FutureWarning)"
   ]
  },
  {
   "cell_type": "code",
   "execution_count": 35,
   "metadata": {},
   "outputs": [],
   "source": [
    "def extract_demographics(root):\n",
    "    p_data = {}\n",
    "\n",
    "    # Get the device source and activity type\n",
    "    source = root.find(\".//SOURCE\")\n",
    "    p_data[\"Activity\"] = source.get(\"TYPE\")\n",
    "    p_data[\"Model\"] = source.get(\"MODEL\")\n",
    "\n",
    "    # Get the site number and ECG metadata + aquisition time\n",
    "    site = root.find(\".//SITE\")\n",
    "    if site is not None:\n",
    "        p_data[\"Site Number:\"] = site.get(\"ID\")\n",
    "\n",
    "    p_data[\"Acquisition Time\"] = root.attrib[\"ACQUISITION_TIME\"]\n",
    "    p_data[\"QRS Count\"] = root.attrib[\"NUM_QRS\"]\n",
    "    p_data[\"Average RR\"] = root.attrib[\"AVERAGE_RR\"]\n",
    "    p_data[\"Heart Rate\"] = 60000 / int(p_data[\"Average RR\"])\n",
    "\n",
    "    for demo in root.findall(\".//DEMOGRAPHIC_FIELD\"):\n",
    "        label = demo.get(\"LABEL\")\n",
    "        value = demo.get(\"VALUE\")\n",
    "\n",
    "        if label in [\"Site Number:\", \"Participant #:\", \"Age:\", \"Gender:\", \"ID:&ID:\", \"Age:&\", \"Sex:\"]:\n",
    "            p_data[label] = value\n",
    "\n",
    "    return p_data"
   ]
  },
  {
   "cell_type": "code",
   "execution_count": 36,
   "metadata": {},
   "outputs": [],
   "source": [
    "p_demographics = []\n",
    "\n",
    "mort_path = Path(\"/media/nvme1/pbecg-data/mortara\")\n",
    "for file_path in mort_path.rglob(\"*xml\"):\n",
    "    tree = ET.parse(file_path)\n",
    "    root = tree.getroot()\n",
    "    p_data = extract_demographics(root)\n",
    "    p_demographics.append(p_data)"
   ]
  },
  {
   "cell_type": "code",
   "execution_count": 37,
   "metadata": {},
   "outputs": [],
   "source": [
    "# Rename keys in list of dictionary\n",
    "for p_demo in p_demographics:\n",
    "    age_keys = [\"Age:&\", \"Age:\"]\n",
    "    for key in age_keys:\n",
    "        if key in p_demo:\n",
    "            p_demo[\"Age\"] = p_demo.pop(key)\n",
    "    \n",
    "    id_keys = [\"ID:&ID:\", \"Participant #:\"]\n",
    "    for key in id_keys:\n",
    "        if key in p_demo:\n",
    "            p_demo[\"ID\"] = p_demo.pop(key)\n",
    "\n",
    "    sex_keys = [\"Sex:\", \"Gender:\"]\n",
    "    for key in sex_keys:\n",
    "        if key in p_demo:\n",
    "            p_demo[\"Sex\"] = p_demo.pop(key)\n",
    "\n",
    "    if \"Site Number:\" in p_demo:\n",
    "        p_demo[\"Site Number\"] = p_demo.pop(\"Site Number:\")"
   ]
  },
  {
   "cell_type": "code",
   "execution_count": 38,
   "metadata": {},
   "outputs": [
    {
     "data": {
      "text/plain": [
       "(3447, 10)"
      ]
     },
     "execution_count": 38,
     "metadata": {},
     "output_type": "execute_result"
    }
   ],
   "source": [
    "demo_df = pd.DataFrame(p_demographics).drop_duplicates()\n",
    "demo_df.shape"
   ]
  },
  {
   "cell_type": "code",
   "execution_count": 39,
   "metadata": {},
   "outputs": [
    {
     "name": "stdout",
     "output_type": "stream",
     "text": [
      "Number of unique patients in Mortara files: 2477\n"
     ]
    }
   ],
   "source": [
    "unique_ids = demo_df[\"ID\"].unique()\n",
    "print(f\"Number of unique patients in Mortara files: {len(unique_ids)}\")"
   ]
  },
  {
   "cell_type": "code",
   "execution_count": 65,
   "metadata": {},
   "outputs": [
    {
     "name": "stdout",
     "output_type": "stream",
     "text": [
      "<class 'pandas.core.frame.DataFrame'>\n",
      "Index: 3447 entries, 0 to 4221\n",
      "Data columns (total 10 columns):\n",
      " #   Column            Non-Null Count  Dtype         \n",
      "---  ------            --------------  -----         \n",
      " 0   Activity          3447 non-null   object        \n",
      " 1   Model             3447 non-null   object        \n",
      " 2   Acquisition Time  3447 non-null   datetime64[ns]\n",
      " 3   QRS Count         3447 non-null   int64         \n",
      " 4   Average RR        3447 non-null   int64         \n",
      " 5   Heart Rate        3447 non-null   float64       \n",
      " 6   Age               3447 non-null   int64         \n",
      " 7   ID                3447 non-null   object        \n",
      " 8   Sex               3447 non-null   object        \n",
      " 9   Site Number       3447 non-null   object        \n",
      "dtypes: datetime64[ns](1), float64(1), int64(3), object(5)\n",
      "memory usage: 296.2+ KB\n"
     ]
    }
   ],
   "source": [
    "demo_df[\"Age\"] = pd.to_numeric(demo_df[\"Age\"])\n",
    "demo_df[\"Acquisition Time\"] = pd.to_datetime(demo_df[\"Acquisition Time\"], format=\"%Y%m%d%H%M%S\")\n",
    "demo_df[\"QRS Count\"] = pd.to_numeric(demo_df[\"QRS Count\"])\n",
    "demo_df[\"Average RR\"] = pd.to_numeric(demo_df[\"Average RR\"])\n",
    "demo_df.info()\n",
    "\n",
    "demo_df.to_csv(\"/media/nvme1/pbecg-data/metadata.csv\", index=False)"
   ]
  },
  {
   "cell_type": "markdown",
   "metadata": {},
   "source": [
    "## Some Exploratory Analysis"
   ]
  },
  {
   "cell_type": "code",
   "execution_count": 66,
   "metadata": {},
   "outputs": [
    {
     "data": {
      "text/html": [
       "<div>\n",
       "<style scoped>\n",
       "    .dataframe tbody tr th:only-of-type {\n",
       "        vertical-align: middle;\n",
       "    }\n",
       "\n",
       "    .dataframe tbody tr th {\n",
       "        vertical-align: top;\n",
       "    }\n",
       "\n",
       "    .dataframe thead th {\n",
       "        text-align: right;\n",
       "    }\n",
       "</style>\n",
       "<table border=\"1\" class=\"dataframe\">\n",
       "  <thead>\n",
       "    <tr style=\"text-align: right;\">\n",
       "      <th></th>\n",
       "      <th>Activity</th>\n",
       "      <th>Model</th>\n",
       "      <th>Acquisition Time</th>\n",
       "      <th>QRS Count</th>\n",
       "      <th>Average RR</th>\n",
       "      <th>Heart Rate</th>\n",
       "      <th>Age</th>\n",
       "      <th>ID</th>\n",
       "      <th>Sex</th>\n",
       "      <th>Site Number</th>\n",
       "    </tr>\n",
       "  </thead>\n",
       "  <tbody>\n",
       "    <tr>\n",
       "      <th>0</th>\n",
       "      <td>RESTING</td>\n",
       "      <td>el150/250</td>\n",
       "      <td>2018-01-23 14:23:09</td>\n",
       "      <td>13</td>\n",
       "      <td>779</td>\n",
       "      <td>77.021823</td>\n",
       "      <td>40</td>\n",
       "      <td>7395625925</td>\n",
       "      <td>Female</td>\n",
       "      <td>62</td>\n",
       "    </tr>\n",
       "    <tr>\n",
       "      <th>1</th>\n",
       "      <td>RESTING</td>\n",
       "      <td>el150/250</td>\n",
       "      <td>2018-01-24 10:39:39</td>\n",
       "      <td>7</td>\n",
       "      <td>1308</td>\n",
       "      <td>45.871560</td>\n",
       "      <td>55</td>\n",
       "      <td>9998054694</td>\n",
       "      <td>Male</td>\n",
       "      <td>008</td>\n",
       "    </tr>\n",
       "    <tr>\n",
       "      <th>2</th>\n",
       "      <td>RESTING</td>\n",
       "      <td>el150/250</td>\n",
       "      <td>2018-01-23 11:48:37</td>\n",
       "      <td>10</td>\n",
       "      <td>915</td>\n",
       "      <td>65.573770</td>\n",
       "      <td>58</td>\n",
       "      <td>4017667892</td>\n",
       "      <td>Female</td>\n",
       "      <td>009</td>\n",
       "    </tr>\n",
       "    <tr>\n",
       "      <th>3</th>\n",
       "      <td>RESTING</td>\n",
       "      <td>el150/250</td>\n",
       "      <td>2017-12-14 13:09:59</td>\n",
       "      <td>11</td>\n",
       "      <td>885</td>\n",
       "      <td>67.796610</td>\n",
       "      <td>70</td>\n",
       "      <td>5212080063</td>\n",
       "      <td>Male</td>\n",
       "      <td>62</td>\n",
       "    </tr>\n",
       "    <tr>\n",
       "      <th>4</th>\n",
       "      <td>RESTING</td>\n",
       "      <td>el150/250</td>\n",
       "      <td>2018-02-06 12:13:49</td>\n",
       "      <td>14</td>\n",
       "      <td>673</td>\n",
       "      <td>89.153046</td>\n",
       "      <td>29</td>\n",
       "      <td>4654705937</td>\n",
       "      <td>Male</td>\n",
       "      <td>62</td>\n",
       "    </tr>\n",
       "  </tbody>\n",
       "</table>\n",
       "</div>"
      ],
      "text/plain": [
       "  Activity      Model    Acquisition Time  QRS Count  Average RR  Heart Rate  \\\n",
       "0  RESTING  el150/250 2018-01-23 14:23:09         13         779   77.021823   \n",
       "1  RESTING  el150/250 2018-01-24 10:39:39          7        1308   45.871560   \n",
       "2  RESTING  el150/250 2018-01-23 11:48:37         10         915   65.573770   \n",
       "3  RESTING  el150/250 2017-12-14 13:09:59         11         885   67.796610   \n",
       "4  RESTING  el150/250 2018-02-06 12:13:49         14         673   89.153046   \n",
       "\n",
       "   Age          ID     Sex Site Number  \n",
       "0   40  7395625925  Female          62  \n",
       "1   55  9998054694    Male         008  \n",
       "2   58  4017667892  Female         009  \n",
       "3   70  5212080063    Male          62  \n",
       "4   29  4654705937    Male          62  "
      ]
     },
     "execution_count": 66,
     "metadata": {},
     "output_type": "execute_result"
    }
   ],
   "source": [
    "demo_df.head()"
   ]
  },
  {
   "cell_type": "code",
   "execution_count": 67,
   "metadata": {},
   "outputs": [
    {
     "data": {
      "text/plain": [
       "Text(0, 0.5, 'Count')"
      ]
     },
     "execution_count": 67,
     "metadata": {},
     "output_type": "execute_result"
    },
    {
     "data": {
      "image/png": "[encoded data removed]",
      "text/plain": [
       "<Figure size 300x500 with 1 Axes>"
      ]
     },
     "metadata": {},
     "output_type": "display_data"
    }
   ],
   "source": [
    "plt.figure(figsize=(3, 5))\n",
    "sex_count = demo_df[\"Sex\"].value_counts()\n",
    "sns.barplot(x=sex_count.index, y=sex_count.values)\n",
    "plt.ylabel(\"Count\")"
   ]
  },
  {
   "cell_type": "code",
   "execution_count": 92,
   "metadata": {},
   "outputs": [
    {
     "data": {
      "text/plain": [
       "<Axes: xlabel='Age', ylabel='Count'>"
      ]
     },
     "execution_count": 92,
     "metadata": {},
     "output_type": "execute_result"
    },
    {
     "data": {
      "image/png": "[encoded data removed]",
      "text/plain": [
       "<Figure size 640x480 with 1 Axes>"
      ]
     },
     "metadata": {},
     "output_type": "display_data"
    }
   ],
   "source": [
    "sns.histplot(demo_df[demo_df[\"Age\"] < 100][\"Age\"], bins=15)"
   ]
  },
  {
   "cell_type": "code",
   "execution_count": 91,
   "metadata": {},
   "outputs": [
    {
     "data": {
      "text/plain": [
       "<Axes: xlabel='QRS Count', ylabel='Count'>"
      ]
     },
     "execution_count": 91,
     "metadata": {},
     "output_type": "execute_result"
    },
    {
     "data": {
      "image/png": "[encoded data removed]",
      "text/plain": [
       "<Figure size 640x480 with 1 Axes>"
      ]
     },
     "metadata": {},
     "output_type": "display_data"
    }
   ],
   "source": [
    "sns.histplot(demo_df[\"QRS Count\"], bins=20)"
   ]
  },
  {
   "cell_type": "code",
   "execution_count": 93,
   "metadata": {},
   "outputs": [
    {
     "data": {
      "text/plain": [
       "<Axes: xlabel='Heart Rate', ylabel='Count'>"
      ]
     },
     "execution_count": 93,
     "metadata": {},
     "output_type": "execute_result"
    },
    {
     "data": {
      "image/png": "[encoded data removed]",
      "text/plain": [
       "<Figure size 640x480 with 1 Axes>"
      ]
     },
     "metadata": {},
     "output_type": "display_data"
    }
   ],
   "source": [
    "sns.histplot(demo_df[\"Heart Rate\"], bins=20)"
   ]
  },
  {
   "cell_type": "code",
   "execution_count": 94,
   "metadata": {},
   "outputs": [
    {
     "data": {
      "text/html": [
       "<div>\n",
       "<style scoped>\n",
       "    .dataframe tbody tr th:only-of-type {\n",
       "        vertical-align: middle;\n",
       "    }\n",
       "\n",
       "    .dataframe tbody tr th {\n",
       "        vertical-align: top;\n",
       "    }\n",
       "\n",
       "    .dataframe thead th {\n",
       "        text-align: right;\n",
       "    }\n",
       "</style>\n",
       "<table border=\"1\" class=\"dataframe\">\n",
       "  <thead>\n",
       "    <tr style=\"text-align: right;\">\n",
       "      <th></th>\n",
       "      <th>Activity</th>\n",
       "      <th>Model</th>\n",
       "      <th>Acquisition Time</th>\n",
       "      <th>QRS Count</th>\n",
       "      <th>Average RR</th>\n",
       "      <th>Heart Rate</th>\n",
       "      <th>Age</th>\n",
       "      <th>ID</th>\n",
       "      <th>Sex</th>\n",
       "      <th>Site Number</th>\n",
       "    </tr>\n",
       "  </thead>\n",
       "  <tbody>\n",
       "    <tr>\n",
       "      <th>82</th>\n",
       "      <td>RESTING</td>\n",
       "      <td>el150/250</td>\n",
       "      <td>2017-12-27 12:18:40</td>\n",
       "      <td>18</td>\n",
       "      <td>552</td>\n",
       "      <td>108.695652</td>\n",
       "      <td>76</td>\n",
       "      <td>7103938790</td>\n",
       "      <td>Male</td>\n",
       "      <td>009</td>\n",
       "    </tr>\n",
       "    <tr>\n",
       "      <th>221</th>\n",
       "      <td>RESTING</td>\n",
       "      <td>el150/250</td>\n",
       "      <td>2018-08-21 12:06:59</td>\n",
       "      <td>16</td>\n",
       "      <td>598</td>\n",
       "      <td>100.334448</td>\n",
       "      <td>55</td>\n",
       "      <td>7164429577</td>\n",
       "      <td>Male</td>\n",
       "      <td>009</td>\n",
       "    </tr>\n",
       "    <tr>\n",
       "      <th>465</th>\n",
       "      <td>RESTING</td>\n",
       "      <td>el150/250</td>\n",
       "      <td>2018-10-02 14:55:31</td>\n",
       "      <td>17</td>\n",
       "      <td>594</td>\n",
       "      <td>101.010101</td>\n",
       "      <td>48</td>\n",
       "      <td>4770758520</td>\n",
       "      <td>Female</td>\n",
       "      <td>015</td>\n",
       "    </tr>\n",
       "    <tr>\n",
       "      <th>760</th>\n",
       "      <td>RESTING</td>\n",
       "      <td>el150/250</td>\n",
       "      <td>2018-05-29 12:56:13</td>\n",
       "      <td>17</td>\n",
       "      <td>584</td>\n",
       "      <td>102.739726</td>\n",
       "      <td>72</td>\n",
       "      <td>7294985423</td>\n",
       "      <td>Female</td>\n",
       "      <td>015</td>\n",
       "    </tr>\n",
       "    <tr>\n",
       "      <th>1016</th>\n",
       "      <td>RESTING</td>\n",
       "      <td>el150/250</td>\n",
       "      <td>2018-04-13 12:59:01</td>\n",
       "      <td>19</td>\n",
       "      <td>530</td>\n",
       "      <td>113.207547</td>\n",
       "      <td>38</td>\n",
       "      <td>7137356063</td>\n",
       "      <td>Female</td>\n",
       "      <td>62</td>\n",
       "    </tr>\n",
       "    <tr>\n",
       "      <th>1304</th>\n",
       "      <td>RESTING</td>\n",
       "      <td>el150/250</td>\n",
       "      <td>2018-01-04 10:38:38</td>\n",
       "      <td>19</td>\n",
       "      <td>517</td>\n",
       "      <td>116.054159</td>\n",
       "      <td>62</td>\n",
       "      <td>4859242042</td>\n",
       "      <td>Female</td>\n",
       "      <td>015</td>\n",
       "    </tr>\n",
       "    <tr>\n",
       "      <th>1372</th>\n",
       "      <td>RESTING</td>\n",
       "      <td>el150/250</td>\n",
       "      <td>2017-11-29 12:20:24</td>\n",
       "      <td>17</td>\n",
       "      <td>569</td>\n",
       "      <td>105.448155</td>\n",
       "      <td>43</td>\n",
       "      <td>2851425302</td>\n",
       "      <td>Female</td>\n",
       "      <td>62</td>\n",
       "    </tr>\n",
       "    <tr>\n",
       "      <th>1521</th>\n",
       "      <td>RESTING</td>\n",
       "      <td>el150/250</td>\n",
       "      <td>2018-02-27 14:35:04</td>\n",
       "      <td>16</td>\n",
       "      <td>589</td>\n",
       "      <td>101.867572</td>\n",
       "      <td>45</td>\n",
       "      <td>9231392318</td>\n",
       "      <td>Female</td>\n",
       "      <td>015</td>\n",
       "    </tr>\n",
       "    <tr>\n",
       "      <th>1644</th>\n",
       "      <td>RESTING</td>\n",
       "      <td>el150/250</td>\n",
       "      <td>2018-04-30 12:44:06</td>\n",
       "      <td>16</td>\n",
       "      <td>590</td>\n",
       "      <td>101.694915</td>\n",
       "      <td>77</td>\n",
       "      <td>5819215058</td>\n",
       "      <td>Female</td>\n",
       "      <td>015</td>\n",
       "    </tr>\n",
       "    <tr>\n",
       "      <th>1674</th>\n",
       "      <td>RESTING</td>\n",
       "      <td>el150/250</td>\n",
       "      <td>2017-12-18 11:34:36</td>\n",
       "      <td>17</td>\n",
       "      <td>598</td>\n",
       "      <td>100.334448</td>\n",
       "      <td>45</td>\n",
       "      <td>7094529070</td>\n",
       "      <td>Female</td>\n",
       "      <td>015</td>\n",
       "    </tr>\n",
       "    <tr>\n",
       "      <th>2452</th>\n",
       "      <td>RESTING</td>\n",
       "      <td>el150/250</td>\n",
       "      <td>2018-03-02 13:43:25</td>\n",
       "      <td>18</td>\n",
       "      <td>549</td>\n",
       "      <td>109.289617</td>\n",
       "      <td>64</td>\n",
       "      <td>1710711897</td>\n",
       "      <td>Female</td>\n",
       "      <td>015</td>\n",
       "    </tr>\n",
       "    <tr>\n",
       "      <th>2862</th>\n",
       "      <td>RESTING</td>\n",
       "      <td>el150/250</td>\n",
       "      <td>2019-04-12 13:01:05</td>\n",
       "      <td>16</td>\n",
       "      <td>587</td>\n",
       "      <td>102.214651</td>\n",
       "      <td>32</td>\n",
       "      <td>6243734340</td>\n",
       "      <td>Male</td>\n",
       "      <td>007</td>\n",
       "    </tr>\n",
       "    <tr>\n",
       "      <th>3603</th>\n",
       "      <td>RESTING</td>\n",
       "      <td>el150/250</td>\n",
       "      <td>2019-07-29 15:36:16</td>\n",
       "      <td>16</td>\n",
       "      <td>590</td>\n",
       "      <td>101.694915</td>\n",
       "      <td>84</td>\n",
       "      <td>2157009716</td>\n",
       "      <td>Female</td>\n",
       "      <td>007</td>\n",
       "    </tr>\n",
       "    <tr>\n",
       "      <th>3717</th>\n",
       "      <td>RESTING</td>\n",
       "      <td>el150/250</td>\n",
       "      <td>2020-02-03 14:23:03</td>\n",
       "      <td>17</td>\n",
       "      <td>556</td>\n",
       "      <td>107.913669</td>\n",
       "      <td>50</td>\n",
       "      <td>4754957756</td>\n",
       "      <td>Female</td>\n",
       "      <td>009</td>\n",
       "    </tr>\n",
       "    <tr>\n",
       "      <th>3858</th>\n",
       "      <td>RESTING</td>\n",
       "      <td>el150/250</td>\n",
       "      <td>2020-10-22 11:22:56</td>\n",
       "      <td>17</td>\n",
       "      <td>594</td>\n",
       "      <td>101.010101</td>\n",
       "      <td>53</td>\n",
       "      <td>4431444962</td>\n",
       "      <td>Male</td>\n",
       "      <td>015</td>\n",
       "    </tr>\n",
       "    <tr>\n",
       "      <th>3879</th>\n",
       "      <td>RESTING</td>\n",
       "      <td>el150/250</td>\n",
       "      <td>2020-02-21 13:24:21</td>\n",
       "      <td>17</td>\n",
       "      <td>588</td>\n",
       "      <td>102.040816</td>\n",
       "      <td>55</td>\n",
       "      <td>5300080332</td>\n",
       "      <td>Male</td>\n",
       "      <td>009</td>\n",
       "    </tr>\n",
       "    <tr>\n",
       "      <th>4044</th>\n",
       "      <td>RESTING</td>\n",
       "      <td>el150/250</td>\n",
       "      <td>2019-12-02 10:22:47</td>\n",
       "      <td>24</td>\n",
       "      <td>406</td>\n",
       "      <td>147.783251</td>\n",
       "      <td>50</td>\n",
       "      <td>8839005102</td>\n",
       "      <td>Female</td>\n",
       "      <td>015</td>\n",
       "    </tr>\n",
       "  </tbody>\n",
       "</table>\n",
       "</div>"
      ],
      "text/plain": [
       "     Activity      Model    Acquisition Time  QRS Count  Average RR  \\\n",
       "82    RESTING  el150/250 2017-12-27 12:18:40         18         552   \n",
       "221   RESTING  el150/250 2018-08-21 12:06:59         16         598   \n",
       "465   RESTING  el150/250 2018-10-02 14:55:31         17         594   \n",
       "760   RESTING  el150/250 2018-05-29 12:56:13         17         584   \n",
       "1016  RESTING  el150/250 2018-04-13 12:59:01         19         530   \n",
       "1304  RESTING  el150/250 2018-01-04 10:38:38         19         517   \n",
       "1372  RESTING  el150/250 2017-11-29 12:20:24         17         569   \n",
       "1521  RESTING  el150/250 2018-02-27 14:35:04         16         589   \n",
       "1644  RESTING  el150/250 2018-04-30 12:44:06         16         590   \n",
       "1674  RESTING  el150/250 2017-12-18 11:34:36         17         598   \n",
       "2452  RESTING  el150/250 2018-03-02 13:43:25         18         549   \n",
       "2862  RESTING  el150/250 2019-04-12 13:01:05         16         587   \n",
       "3603  RESTING  el150/250 2019-07-29 15:36:16         16         590   \n",
       "3717  RESTING  el150/250 2020-02-03 14:23:03         17         556   \n",
       "3858  RESTING  el150/250 2020-10-22 11:22:56         17         594   \n",
       "3879  RESTING  el150/250 2020-02-21 13:24:21         17         588   \n",
       "4044  RESTING  el150/250 2019-12-02 10:22:47         24         406   \n",
       "\n",
       "      Heart Rate  Age          ID     Sex Site Number  \n",
       "82    108.695652   76  7103938790    Male         009  \n",
       "221   100.334448   55  7164429577    Male         009  \n",
       "465   101.010101   48  4770758520  Female         015  \n",
       "760   102.739726   72  7294985423  Female         015  \n",
       "1016  113.207547   38  7137356063  Female          62  \n",
       "1304  116.054159   62  4859242042  Female         015  \n",
       "1372  105.448155   43  2851425302  Female          62  \n",
       "1521  101.867572   45  9231392318  Female         015  \n",
       "1644  101.694915   77  5819215058  Female         015  \n",
       "1674  100.334448   45  7094529070  Female         015  \n",
       "2452  109.289617   64  1710711897  Female         015  \n",
       "2862  102.214651   32  6243734340    Male         007  \n",
       "3603  101.694915   84  2157009716  Female         007  \n",
       "3717  107.913669   50  4754957756  Female         009  \n",
       "3858  101.010101   53  4431444962    Male         015  \n",
       "3879  102.040816   55  5300080332    Male         009  \n",
       "4044  147.783251   50  8839005102  Female         015  "
      ]
     },
     "execution_count": 94,
     "metadata": {},
     "output_type": "execute_result"
    }
   ],
   "source": [
    "demo_df[demo_df[\"Heart Rate\"] > 100]"
   ]
  },
  {
   "cell_type": "code",
   "execution_count": null,
   "metadata": {},
   "outputs": [],
   "source": []
  }
 ],
 "metadata": {
  "kernelspec": {
   "display_name": "pb",
   "language": "python",
   "name": "python3"
  },
  "language_info": {
   "codemirror_mode": {
    "name": "ipython",
    "version": 3
   },
   "file_extension": ".py",
   "mimetype": "text/x-python",
   "name": "python",
   "nbconvert_exporter": "python",
   "pygments_lexer": "ipython3",
   "version": "3.10.13"
  }
 },
 "nbformat": 4,
 "nbformat_minor": 2
}
