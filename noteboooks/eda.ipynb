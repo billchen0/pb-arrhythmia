{
 "cells": [
  {
   "cell_type": "code",
   "execution_count": 2,
   "metadata": {},
   "outputs": [],
   "source": [
    "from pathlib import Path\n",
    "import pandas as pd"
   ]
  },
  {
   "cell_type": "code",
   "execution_count": 3,
   "metadata": {},
   "outputs": [],
   "source": [
    "data_path = Path(\"/media/nvme1/pbecg-data/dataset.parquet\")\n",
    "df = pd.read_parquet(data_path)"
   ]
  },
  {
   "cell_type": "code",
   "execution_count": 16,
   "metadata": {},
   "outputs": [
    {
     "data": {
      "text/html": [
       "<div>\n",
       "<style scoped>\n",
       "    .dataframe tbody tr th:only-of-type {\n",
       "        vertical-align: middle;\n",
       "    }\n",
       "\n",
       "    .dataframe tbody tr th {\n",
       "        vertical-align: top;\n",
       "    }\n",
       "\n",
       "    .dataframe thead th {\n",
       "        text-align: right;\n",
       "    }\n",
       "</style>\n",
       "<table border=\"1\" class=\"dataframe\">\n",
       "  <thead>\n",
       "    <tr style=\"text-align: right;\">\n",
       "      <th></th>\n",
       "      <th>Pacemaker Findings</th>\n",
       "      <th>subject_id</th>\n",
       "    </tr>\n",
       "  </thead>\n",
       "  <tbody>\n",
       "    <tr>\n",
       "      <th>88</th>\n",
       "      <td>ventricular paced (vvi)</td>\n",
       "      <td>5940408469</td>\n",
       "    </tr>\n",
       "    <tr>\n",
       "      <th>298</th>\n",
       "      <td>ventricular paced (vvi)</td>\n",
       "      <td>8380278887</td>\n",
       "    </tr>\n",
       "    <tr>\n",
       "      <th>963</th>\n",
       "      <td>ventricular paced (vvi)</td>\n",
       "      <td>5366077933</td>\n",
       "    </tr>\n",
       "    <tr>\n",
       "      <th>2360</th>\n",
       "      <td>atrial paced</td>\n",
       "      <td>6800802059</td>\n",
       "    </tr>\n",
       "    <tr>\n",
       "      <th>2486</th>\n",
       "      <td>atrial paced</td>\n",
       "      <td>3395063128</td>\n",
       "    </tr>\n",
       "    <tr>\n",
       "      <th>2566</th>\n",
       "      <td>atrial paced</td>\n",
       "      <td>3881251540</td>\n",
       "    </tr>\n",
       "    <tr>\n",
       "      <th>2968</th>\n",
       "      <td>ventricular paced (vvi)</td>\n",
       "      <td>2524410579</td>\n",
       "    </tr>\n",
       "    <tr>\n",
       "      <th>2990</th>\n",
       "      <td>ventricular paced (vvi)</td>\n",
       "      <td>5829591284</td>\n",
       "    </tr>\n",
       "    <tr>\n",
       "      <th>3076</th>\n",
       "      <td>ventricular paced (vvi)</td>\n",
       "      <td>5858492837</td>\n",
       "    </tr>\n",
       "  </tbody>\n",
       "</table>\n",
       "</div>"
      ],
      "text/plain": [
       "           Pacemaker Findings  subject_id\n",
       "88    ventricular paced (vvi)  5940408469\n",
       "298   ventricular paced (vvi)  8380278887\n",
       "963   ventricular paced (vvi)  5366077933\n",
       "2360             atrial paced  6800802059\n",
       "2486             atrial paced  3395063128\n",
       "2566             atrial paced  3881251540\n",
       "2968  ventricular paced (vvi)  2524410579\n",
       "2990  ventricular paced (vvi)  5829591284\n",
       "3076  ventricular paced (vvi)  5858492837"
      ]
     },
     "execution_count": 16,
     "metadata": {},
     "output_type": "execute_result"
    }
   ],
   "source": [
    "df[~df[\"Pacemaker Findings\"].isnull()][[\"Pacemaker Findings\", \"subject_id\"]]"
   ]
  }
 ],
 "metadata": {
  "kernelspec": {
   "display_name": "pbecg",
   "language": "python",
   "name": "python3"
  },
  "language_info": {
   "codemirror_mode": {
    "name": "ipython",
    "version": 3
   },
   "file_extension": ".py",
   "mimetype": "text/x-python",
   "name": "python",
   "nbconvert_exporter": "python",
   "pygments_lexer": "ipython3",
   "version": "3.10.13"
  },
  "orig_nbformat": 4
 },
 "nbformat": 4,
 "nbformat_minor": 2
}
