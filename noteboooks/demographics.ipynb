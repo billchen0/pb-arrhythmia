{
 "cells": [
  {
   "cell_type": "code",
   "execution_count": 1,
   "metadata": {},
   "outputs": [],
   "source": [
    "%matplotlib inline\n",
    "from pathlib import Path\n",
    "import xml.etree.ElementTree as ET\n",
    "import pandas as pd\n",
    "import seaborn as sns\n",
    "import matplotlib.pyplot as plt\n",
    "import warnings\n",
    "warnings.simplefilter(action=\"ignore\", category=FutureWarning)"
   ]
  },
  {
   "cell_type": "code",
   "execution_count": 2,
   "metadata": {},
   "outputs": [],
   "source": [
    "def extract_demographics(root):\n",
    "    p_data = {}\n",
    "\n",
    "    # Get the device source and activity type\n",
    "    source = root.find(\".//SOURCE\")\n",
    "    p_data[\"Activity\"] = source.get(\"TYPE\")\n",
    "    p_data[\"Model\"] = source.get(\"MODEL\")\n",
    "\n",
    "    # Get the site number and ECG metadata + aquisition time\n",
    "    site = root.find(\".//SITE\")\n",
    "    if site is not None:\n",
    "        p_data[\"Site Number:\"] = site.get(\"ID\")\n",
    "\n",
    "    p_data[\"Acquisition Time\"] = root.attrib[\"ACQUISITION_TIME\"]\n",
    "    p_data[\"QRS Count\"] = root.attrib[\"NUM_QRS\"]\n",
    "    p_data[\"Average RR\"] = root.attrib[\"AVERAGE_RR\"]\n",
    "    p_data[\"Heart Rate\"] = 60000 / int(p_data[\"Average RR\"])\n",
    "\n",
    "    for demo in root.findall(\".//DEMOGRAPHIC_FIELD\"):\n",
    "        label = demo.get(\"LABEL\")\n",
    "        value = demo.get(\"VALUE\")\n",
    "\n",
    "        if label in [\"Site Number:\", \"Participant #:\", \"Age:\", \"Gender:\", \"ID:&ID:\", \"Age:&\", \"Sex:\"]:\n",
    "            p_data[label] = value\n",
    "\n",
    "    return p_data"
   ]
  },
  {
   "cell_type": "code",
   "execution_count": 3,
   "metadata": {},
   "outputs": [],
   "source": [
    "p_demographics = []\n",
    "\n",
    "mort_path = Path(\"/media/nvme1/pbecg-data/mortara\")\n",
    "for file_path in mort_path.rglob(\"*xml\"):\n",
    "    tree = ET.parse(file_path)\n",
    "    root = tree.getroot()\n",
    "    p_data = extract_demographics(root)\n",
    "    p_demographics.append(p_data)"
   ]
  },
  {
   "cell_type": "code",
   "execution_count": 4,
   "metadata": {},
   "outputs": [],
   "source": [
    "# Rename keys in list of dictionary\n",
    "for p_demo in p_demographics:\n",
    "    age_keys = [\"Age:&\", \"Age:\"]\n",
    "    for key in age_keys:\n",
    "        if key in p_demo:\n",
    "            p_demo[\"Age\"] = p_demo.pop(key)\n",
    "    \n",
    "    id_keys = [\"ID:&ID:\", \"Participant #:\"]\n",
    "    for key in id_keys:\n",
    "        if key in p_demo:\n",
    "            p_demo[\"ID\"] = p_demo.pop(key)\n",
    "\n",
    "    sex_keys = [\"Sex:\", \"Gender:\"]\n",
    "    for key in sex_keys:\n",
    "        if key in p_demo:\n",
    "            p_demo[\"Sex\"] = p_demo.pop(key)\n",
    "\n",
    "    if \"Site Number:\" in p_demo:\n",
    "        p_demo[\"Site Number\"] = p_demo.pop(\"Site Number:\")"
   ]
  },
  {
   "cell_type": "code",
   "execution_count": 5,
   "metadata": {},
   "outputs": [
    {
     "data": {
      "text/plain": [
       "(3825, 10)"
      ]
     },
     "execution_count": 5,
     "metadata": {},
     "output_type": "execute_result"
    }
   ],
   "source": [
    "demo_df = pd.DataFrame(p_demographics).drop_duplicates()\n",
    "demo_df.shape"
   ]
  },
  {
   "cell_type": "code",
   "execution_count": 6,
   "metadata": {},
   "outputs": [
    {
     "name": "stdout",
     "output_type": "stream",
     "text": [
      "Number of unique patients in Mortara files: 2486\n"
     ]
    }
   ],
   "source": [
    "unique_ids = demo_df[\"ID\"].unique()\n",
    "print(f\"Number of unique patients in Mortara files: {len(unique_ids)}\")"
   ]
  },
  {
   "cell_type": "code",
   "execution_count": 7,
   "metadata": {},
   "outputs": [
    {
     "name": "stdout",
     "output_type": "stream",
     "text": [
      "<class 'pandas.core.frame.DataFrame'>\n",
      "Index: 3825 entries, 0 to 4607\n",
      "Data columns (total 10 columns):\n",
      " #   Column            Non-Null Count  Dtype         \n",
      "---  ------            --------------  -----         \n",
      " 0   Activity          3825 non-null   object        \n",
      " 1   Model             3825 non-null   object        \n",
      " 2   Acquisition Time  3825 non-null   datetime64[ns]\n",
      " 3   QRS Count         3825 non-null   int64         \n",
      " 4   Average RR        3825 non-null   int64         \n",
      " 5   Heart Rate        3825 non-null   float64       \n",
      " 6   Age               3825 non-null   int64         \n",
      " 7   ID                3825 non-null   object        \n",
      " 8   Sex               3825 non-null   object        \n",
      " 9   Site Number       3825 non-null   object        \n",
      "dtypes: datetime64[ns](1), float64(1), int64(3), object(5)\n",
      "memory usage: 328.7+ KB\n"
     ]
    }
   ],
   "source": [
    "demo_df[\"Age\"] = pd.to_numeric(demo_df[\"Age\"])\n",
    "demo_df[\"Acquisition Time\"] = pd.to_datetime(demo_df[\"Acquisition Time\"], format=\"%Y%m%d%H%M%S\")\n",
    "demo_df[\"QRS Count\"] = pd.to_numeric(demo_df[\"QRS Count\"])\n",
    "demo_df[\"Average RR\"] = pd.to_numeric(demo_df[\"Average RR\"])\n",
    "demo_df.info()\n",
    "\n",
    "demo_df.to_csv(\"/media/nvme1/pbecg-data/metadata.csv\", index=False)"
   ]
  },
  {
   "cell_type": "markdown",
   "metadata": {},
   "source": [
    "## Some Exploratory Analysis"
   ]
  },
  {
   "cell_type": "code",
   "execution_count": 8,
   "metadata": {},
   "outputs": [
    {
     "data": {
      "text/html": [
       "<div>\n",
       "<style scoped>\n",
       "    .dataframe tbody tr th:only-of-type {\n",
       "        vertical-align: middle;\n",
       "    }\n",
       "\n",
       "    .dataframe tbody tr th {\n",
       "        vertical-align: top;\n",
       "    }\n",
       "\n",
       "    .dataframe thead th {\n",
       "        text-align: right;\n",
       "    }\n",
       "</style>\n",
       "<table border=\"1\" class=\"dataframe\">\n",
       "  <thead>\n",
       "    <tr style=\"text-align: right;\">\n",
       "      <th></th>\n",
       "      <th>Activity</th>\n",
       "      <th>Model</th>\n",
       "      <th>Acquisition Time</th>\n",
       "      <th>QRS Count</th>\n",
       "      <th>Average RR</th>\n",
       "      <th>Heart Rate</th>\n",
       "      <th>Age</th>\n",
       "      <th>ID</th>\n",
       "      <th>Sex</th>\n",
       "      <th>Site Number</th>\n",
       "    </tr>\n",
       "  </thead>\n",
       "  <tbody>\n",
       "    <tr>\n",
       "      <th>0</th>\n",
       "      <td>RESTING</td>\n",
       "      <td>el150/250</td>\n",
       "      <td>2018-01-23 14:23:09</td>\n",
       "      <td>13</td>\n",
       "      <td>779</td>\n",
       "      <td>77.021823</td>\n",
       "      <td>40</td>\n",
       "      <td>7395625925</td>\n",
       "      <td>Female</td>\n",
       "      <td>62</td>\n",
       "    </tr>\n",
       "    <tr>\n",
       "      <th>1</th>\n",
       "      <td>RESTING</td>\n",
       "      <td>el150/250</td>\n",
       "      <td>2018-01-24 10:39:39</td>\n",
       "      <td>7</td>\n",
       "      <td>1308</td>\n",
       "      <td>45.871560</td>\n",
       "      <td>55</td>\n",
       "      <td>9998054694</td>\n",
       "      <td>Male</td>\n",
       "      <td>008</td>\n",
       "    </tr>\n",
       "    <tr>\n",
       "      <th>2</th>\n",
       "      <td>RESTING</td>\n",
       "      <td>el150/250</td>\n",
       "      <td>2018-01-23 11:48:37</td>\n",
       "      <td>10</td>\n",
       "      <td>915</td>\n",
       "      <td>65.573770</td>\n",
       "      <td>58</td>\n",
       "      <td>4017667892</td>\n",
       "      <td>Female</td>\n",
       "      <td>009</td>\n",
       "    </tr>\n",
       "    <tr>\n",
       "      <th>3</th>\n",
       "      <td>RESTING</td>\n",
       "      <td>el150/250</td>\n",
       "      <td>2017-12-14 13:09:59</td>\n",
       "      <td>11</td>\n",
       "      <td>885</td>\n",
       "      <td>67.796610</td>\n",
       "      <td>70</td>\n",
       "      <td>5212080063</td>\n",
       "      <td>Male</td>\n",
       "      <td>62</td>\n",
       "    </tr>\n",
       "    <tr>\n",
       "      <th>4</th>\n",
       "      <td>RESTING</td>\n",
       "      <td>el150/250</td>\n",
       "      <td>2018-02-06 12:13:49</td>\n",
       "      <td>14</td>\n",
       "      <td>673</td>\n",
       "      <td>89.153046</td>\n",
       "      <td>29</td>\n",
       "      <td>4654705937</td>\n",
       "      <td>Male</td>\n",
       "      <td>62</td>\n",
       "    </tr>\n",
       "  </tbody>\n",
       "</table>\n",
       "</div>"
      ],
      "text/plain": [
       "  Activity      Model    Acquisition Time  QRS Count  Average RR  Heart Rate  \\\n",
       "0  RESTING  el150/250 2018-01-23 14:23:09         13         779   77.021823   \n",
       "1  RESTING  el150/250 2018-01-24 10:39:39          7        1308   45.871560   \n",
       "2  RESTING  el150/250 2018-01-23 11:48:37         10         915   65.573770   \n",
       "3  RESTING  el150/250 2017-12-14 13:09:59         11         885   67.796610   \n",
       "4  RESTING  el150/250 2018-02-06 12:13:49         14         673   89.153046   \n",
       "\n",
       "   Age          ID     Sex Site Number  \n",
       "0   40  7395625925  Female          62  \n",
       "1   55  9998054694    Male         008  \n",
       "2   58  4017667892  Female         009  \n",
       "3   70  5212080063    Male          62  \n",
       "4   29  4654705937    Male          62  "
      ]
     },
     "execution_count": 8,
     "metadata": {},
     "output_type": "execute_result"
    }
   ],
   "source": [
    "demo_df.head()"
   ]
  },
  {
   "cell_type": "code",
   "execution_count": 9,
   "metadata": {},
   "outputs": [
    {
     "data": {
      "text/plain": [
       "Text(0, 0.5, 'Count')"
      ]
     },
     "execution_count": 9,
     "metadata": {},
     "output_type": "execute_result"
    },
    {
     "data": {
      "image/png": "[encoded data removed]",
      "text/plain": [
       "<Figure size 300x500 with 1 Axes>"
      ]
     },
     "metadata": {},
     "output_type": "display_data"
    }
   ],
   "source": [
    "plt.figure(figsize=(3, 5))\n",
    "sex_count = demo_df[\"Sex\"].value_counts()\n",
    "sns.barplot(x=sex_count.index, y=sex_count.values)\n",
    "plt.ylabel(\"Count\")"
   ]
  },
  {
   "cell_type": "code",
   "execution_count": 10,
   "metadata": {},
   "outputs": [
    {
     "data": {
      "text/plain": [
       "<Axes: xlabel='Age', ylabel='Count'>"
      ]
     },
     "execution_count": 10,
     "metadata": {},
     "output_type": "execute_result"
    },
    {
     "data": {
      "image/png": "[encoded data removed]",
      "text/plain": [
       "<Figure size 640x480 with 1 Axes>"
      ]
     },
     "metadata": {},
     "output_type": "display_data"
    }
   ],
   "source": [
    "sns.histplot(demo_df[demo_df[\"Age\"] < 100][\"Age\"], bins=15)"
   ]
  },
  {
   "cell_type": "code",
   "execution_count": 11,
   "metadata": {},
   "outputs": [
    {
     "data": {
      "text/plain": [
       "<Axes: xlabel='QRS Count', ylabel='Count'>"
      ]
     },
     "execution_count": 11,
     "metadata": {},
     "output_type": "execute_result"
    },
    {
     "data": {
      "image/png": "[encoded data removed]",
      "text/plain": [
       "<Figure size 640x480 with 1 Axes>"
      ]
     },
     "metadata": {},
     "output_type": "display_data"
    }
   ],
   "source": [
    "sns.histplot(demo_df[\"QRS Count\"], bins=20)"
   ]
  },
  {
   "cell_type": "code",
   "execution_count": 12,
   "metadata": {},
   "outputs": [
    {
     "data": {
      "text/plain": [
       "<Axes: xlabel='Heart Rate', ylabel='Count'>"
      ]
     },
     "execution_count": 12,
     "metadata": {},
     "output_type": "execute_result"
    },
    {
     "data": {
      "image/png": "[encoded data removed]",
      "text/plain": [
       "<Figure size 640x480 with 1 Axes>"
      ]
     },
     "metadata": {},
     "output_type": "display_data"
    }
   ],
   "source": [
    "sns.histplot(demo_df[\"Heart Rate\"], bins=20)"
   ]
  }
 ],
 "metadata": {
  "kernelspec": {
   "display_name": "pb",
   "language": "python",
   "name": "python3"
  },
  "language_info": {
   "codemirror_mode": {
    "name": "ipython",
    "version": 3
   },
   "file_extension": ".py",
   "mimetype": "text/x-python",
   "name": "python",
   "nbconvert_exporter": "python",
   "pygments_lexer": "ipython3",
   "version": "3.10.13"
  }
 },
 "nbformat": 4,
 "nbformat_minor": 2
}
