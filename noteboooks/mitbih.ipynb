{
 "cells": [
  {
   "cell_type": "code",
   "execution_count": 7,
   "metadata": {},
   "outputs": [],
   "source": [
    "import wfdb"
   ]
  },
  {
   "cell_type": "code",
   "execution_count": 8,
   "metadata": {},
   "outputs": [],
   "source": [
    "path_to_file = \"/media/nvme1/mit-bih/100\"\n",
    "record = wfdb.rdrecord(path_to_file)\n",
    "annot = wfdb.rdann(path_to_file, \"atr\")\n",
    "\n",
    "ecg_signals = record.p_signal"
   ]
  },
  {
   "cell_type": "code",
   "execution_count": 9,
   "metadata": {},
   "outputs": [
    {
     "data": {
      "text/plain": [
       "{'record_name': '100',\n",
       " 'n_sig': 2,\n",
       " 'fs': 360,\n",
       " 'counter_freq': None,\n",
       " 'base_counter': None,\n",
       " 'sig_len': 650000,\n",
       " 'base_time': None,\n",
       " 'base_date': None,\n",
       " 'comments': ['69 M 1085 1629 x1', 'Aldomet, Inderal'],\n",
       " 'sig_name': ['MLII', 'V5'],\n",
       " 'p_signal': array([[-0.145, -0.065],\n",
       "        [-0.145, -0.065],\n",
       "        [-0.145, -0.065],\n",
       "        ...,\n",
       "        [-0.675, -0.365],\n",
       "        [-0.765, -0.335],\n",
       "        [-1.28 ,  0.   ]]),\n",
       " 'd_signal': None,\n",
       " 'e_p_signal': None,\n",
       " 'e_d_signal': None,\n",
       " 'file_name': ['100.dat', '100.dat'],\n",
       " 'fmt': ['212', '212'],\n",
       " 'samps_per_frame': [1, 1],\n",
       " 'skew': [None, None],\n",
       " 'byte_offset': [None, None],\n",
       " 'adc_gain': [200.0, 200.0],\n",
       " 'baseline': [1024, 1024],\n",
       " 'units': ['mV', 'mV'],\n",
       " 'adc_res': [11, 11],\n",
       " 'adc_zero': [1024, 1024],\n",
       " 'init_value': [995, 1011],\n",
       " 'checksum': [-22131, 20052],\n",
       " 'block_size': [0, 0]}"
      ]
     },
     "execution_count": 9,
     "metadata": {},
     "output_type": "execute_result"
    }
   ],
   "source": [
    "record.__dict__"
   ]
  },
  {
   "cell_type": "code",
   "execution_count": 12,
   "metadata": {},
   "outputs": [
    {
     "data": {
      "text/plain": [
       "['MLII', 'V5']"
      ]
     },
     "execution_count": 12,
     "metadata": {},
     "output_type": "execute_result"
    }
   ],
   "source": [
    "record.sig_name"
   ]
  },
  {
   "cell_type": "code",
   "execution_count": 14,
   "metadata": {},
   "outputs": [
    {
     "data": {
      "text/plain": [
       "array([    18,     77,    370, ..., 649484, 649734, 649991])"
      ]
     },
     "execution_count": 14,
     "metadata": {},
     "output_type": "execute_result"
    }
   ],
   "source": [
    "annot.sample"
   ]
  },
  {
   "cell_type": "code",
   "execution_count": 2,
   "metadata": {},
   "outputs": [],
   "source": [
    "import wfdb\n",
    "path_to_file = \"/media/nvme1/pbecg-data/dataset/5692915810/450a95b1-759d-4897-9a90-1842b73052f3\"\n",
    "record = wfdb.rdrecord(path_to_file)"
   ]
  },
  {
   "cell_type": "code",
   "execution_count": 4,
   "metadata": {},
   "outputs": [
    {
     "data": {
      "text/plain": [
       "array([[124. , 117.6,  -6.4, ...,  -4. ,  12. ,  68. ],\n",
       "       [120. , 112. ,  -8. , ...,  -8. ,  16. ,  64. ],\n",
       "       [116. , 106.4,  -9.6, ..., -12. ,  20. ,  60. ],\n",
       "       ...,\n",
       "       [ 44. ,  40. ,  -4. , ..., -40. , -24. , -16. ],\n",
       "       [ 42.4,  38.4,  -4. , ..., -44. , -24. , -20. ],\n",
       "       [ 40. ,  36. ,  -4. , ..., -48. , -24. , -24. ]])"
      ]
     },
     "execution_count": 4,
     "metadata": {},
     "output_type": "execute_result"
    }
   ],
   "source": [
    "record.p_signal"
   ]
  },
  {
   "cell_type": "code",
   "execution_count": 6,
   "metadata": {},
   "outputs": [
    {
     "data": {
      "text/plain": [
       "{'record_name': '450a95b1-759d-4897-9a90-1842b73052f3',\n",
       " 'n_sig': 12,\n",
       " 'fs': 1000,\n",
       " 'counter_freq': None,\n",
       " 'base_counter': None,\n",
       " 'sig_len': 10000,\n",
       " 'base_time': None,\n",
       " 'base_date': None,\n",
       " 'comments': [],\n",
       " 'sig_name': ['I',\n",
       "  'II',\n",
       "  'III',\n",
       "  'aVR',\n",
       "  'aVL',\n",
       "  'aVF',\n",
       "  'V1',\n",
       "  'V2',\n",
       "  'V3',\n",
       "  'V4',\n",
       "  'V5',\n",
       "  'V6'],\n",
       " 'p_signal': array([[124. , 117.6,  -6.4, ...,  -4. ,  12. ,  68. ],\n",
       "        [120. , 112. ,  -8. , ...,  -8. ,  16. ,  64. ],\n",
       "        [116. , 106.4,  -9.6, ..., -12. ,  20. ,  60. ],\n",
       "        ...,\n",
       "        [ 44. ,  40. ,  -4. , ..., -40. , -24. , -16. ],\n",
       "        [ 42.4,  38.4,  -4. , ..., -44. , -24. , -20. ],\n",
       "        [ 40. ,  36. ,  -4. , ..., -48. , -24. , -24. ]]),\n",
       " 'd_signal': None,\n",
       " 'e_p_signal': None,\n",
       " 'e_d_signal': None,\n",
       " 'file_name': ['450a95b1-759d-4897-9a90-1842b73052f3.dat',\n",
       "  '450a95b1-759d-4897-9a90-1842b73052f3.dat',\n",
       "  '450a95b1-759d-4897-9a90-1842b73052f3.dat',\n",
       "  '450a95b1-759d-4897-9a90-1842b73052f3.dat',\n",
       "  '450a95b1-759d-4897-9a90-1842b73052f3.dat',\n",
       "  '450a95b1-759d-4897-9a90-1842b73052f3.dat',\n",
       "  '450a95b1-759d-4897-9a90-1842b73052f3.dat',\n",
       "  '450a95b1-759d-4897-9a90-1842b73052f3.dat',\n",
       "  '450a95b1-759d-4897-9a90-1842b73052f3.dat',\n",
       "  '450a95b1-759d-4897-9a90-1842b73052f3.dat',\n",
       "  '450a95b1-759d-4897-9a90-1842b73052f3.dat',\n",
       "  '450a95b1-759d-4897-9a90-1842b73052f3.dat'],\n",
       " 'fmt': ['16',\n",
       "  '16',\n",
       "  '16',\n",
       "  '16',\n",
       "  '16',\n",
       "  '16',\n",
       "  '16',\n",
       "  '16',\n",
       "  '16',\n",
       "  '16',\n",
       "  '16',\n",
       "  '16'],\n",
       " 'samps_per_frame': [1, 1, 1, 1, 1, 1, 1, 1, 1, 1, 1, 1],\n",
       " 'skew': [None,\n",
       "  None,\n",
       "  None,\n",
       "  None,\n",
       "  None,\n",
       "  None,\n",
       "  None,\n",
       "  None,\n",
       "  None,\n",
       "  None,\n",
       "  None,\n",
       "  None],\n",
       " 'byte_offset': [None,\n",
       "  None,\n",
       "  None,\n",
       "  None,\n",
       "  None,\n",
       "  None,\n",
       "  None,\n",
       "  None,\n",
       "  None,\n",
       "  None,\n",
       "  None,\n",
       "  None],\n",
       " 'adc_gain': [1.25,\n",
       "  1.25,\n",
       "  1.25,\n",
       "  1.25,\n",
       "  1.25,\n",
       "  1.25,\n",
       "  1.25,\n",
       "  1.25,\n",
       "  1.25,\n",
       "  1.25,\n",
       "  1.25,\n",
       "  1.25],\n",
       " 'baseline': [0, 0, 0, 0, 0, 0, 0, 0, 0, 0, 0, 0],\n",
       " 'units': ['mV',\n",
       "  'mV',\n",
       "  'mV',\n",
       "  'mV',\n",
       "  'mV',\n",
       "  'mV',\n",
       "  'mV',\n",
       "  'mV',\n",
       "  'mV',\n",
       "  'mV',\n",
       "  'mV',\n",
       "  'mV'],\n",
       " 'adc_res': [0, 0, 0, 0, 0, 0, 0, 0, 0, 0, 0, 0],\n",
       " 'adc_zero': [0, 0, 0, 0, 0, 0, 0, 0, 0, 0, 0, 0],\n",
       " 'init_value': [None,\n",
       "  None,\n",
       "  None,\n",
       "  None,\n",
       "  None,\n",
       "  None,\n",
       "  None,\n",
       "  None,\n",
       "  None,\n",
       "  None,\n",
       "  None,\n",
       "  None],\n",
       " 'checksum': [None,\n",
       "  None,\n",
       "  None,\n",
       "  None,\n",
       "  None,\n",
       "  None,\n",
       "  None,\n",
       "  None,\n",
       "  None,\n",
       "  None,\n",
       "  None,\n",
       "  None],\n",
       " 'block_size': [None,\n",
       "  None,\n",
       "  None,\n",
       "  None,\n",
       "  None,\n",
       "  None,\n",
       "  None,\n",
       "  None,\n",
       "  None,\n",
       "  None,\n",
       "  None,\n",
       "  None]}"
      ]
     },
     "execution_count": 6,
     "metadata": {},
     "output_type": "execute_result"
    }
   ],
   "source": [
    "record.__dict__"
   ]
  },
  {
   "cell_type": "code",
   "execution_count": null,
   "metadata": {},
   "outputs": [],
   "source": []
  }
 ],
 "metadata": {
  "kernelspec": {
   "display_name": "pb",
   "language": "python",
   "name": "python3"
  },
  "language_info": {
   "codemirror_mode": {
    "name": "ipython",
    "version": 3
   },
   "file_extension": ".py",
   "mimetype": "text/x-python",
   "name": "python",
   "nbconvert_exporter": "python",
   "pygments_lexer": "ipython3",
   "version": "3.10.13"
  }
 },
 "nbformat": 4,
 "nbformat_minor": 2
}
